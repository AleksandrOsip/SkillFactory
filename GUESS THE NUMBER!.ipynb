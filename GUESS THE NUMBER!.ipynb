{
 "cells": [
  {
   "cell_type": "code",
   "execution_count": 5,
   "metadata": {
    "collapsed": true
   },
   "outputs": [
    {
     "name": "stdout",
     "output_type": "stream",
     "text": [
      "Загадано число от 1 до 100\n",
      "1\n",
      "Угадываемое число больше 1 \n",
      "10\n",
      "Угадываемое число больше 10 \n",
      "50\n",
      "Угадываемое число больше 50 \n",
      "70\n",
      "Угадываемое число больше 70 \n",
      "90\n",
      "Угадываемое число меньше 90 \n",
      "80\n",
      "Угадываемое число меньше 80 \n",
      "75\n",
      "Угадываемое число меньше 75 \n",
      "73\n",
      "Угадываемое число больше 73 \n",
      "74\n",
      "Вы угадали число 74 за 9 попыток.\n"
     ]
    }
   ],
   "source": [
    "import numpy as np\n",
    "\n",
    "count = 0                           # счетчик попыток\n",
    "number = np.random.randint(1,101)   # загадали число\n",
    "print (\"Загадано число от 1 до 100\")\n",
    "    \n",
    "while True:                        # бесконечный цикл\n",
    "    predict = int(input())         # предполагаемое число\n",
    "    count += 1                     # плюсуем попытку\n",
    "    if number == predict: break    # выход из цикла, если угадали\n",
    "    elif number > predict: print (f\"Угадываемое число больше {predict} \")\n",
    "    elif number < predict: print (f\"Угадываемое число меньше {predict} \")\n",
    "            \n",
    "print (f\"Вы угадали число {number} за {count} попыток.\")    "
   ]
  },
  {
   "cell_type": "code",
   "execution_count": 39,
   "metadata": {},
   "outputs": [
    {
     "name": "stdout",
     "output_type": "stream",
     "text": [
      "Загадано число от 1 до 100\n",
      "Вы угадали число 95 за 95 попыток.\n"
     ]
    }
   ],
   "source": [
    "number = np.random.randint(1,101)      # загадали число\n",
    "print (\"Загадано число от 1 до 100\")\n",
    "for count in range(1,101):         # более компактный вариант счетчика\n",
    "    if number == count: break      # выход из цикла, если угадали      \n",
    "print (f\"Вы угадали число {number} за {count} попыток.\")    "
   ]
  },
  {
   "cell_type": "code",
   "execution_count": 35,
   "metadata": {},
   "outputs": [
    {
     "name": "stdout",
     "output_type": "stream",
     "text": [
      "Вы угадали число 74 за 55 попыток.\n"
     ]
    }
   ],
   "source": [
    "def game_core_v1(number):\n",
    "    '''Просто угадываем на random, никак не используя информацию о больше или меньше.\n",
    "       Функция принимает загаданное число и возвращает число попыток'''\n",
    "    count = 0\n",
    "    while True:\n",
    "        count+=1\n",
    "        predict = np.random.randint(1,101) # предполагаемое число\n",
    "        if number == predict:\n",
    "            return count # выход из цикла, если угадали\n",
    "    return count\n",
    "print(f\"Вы угадали число {predict} за {count} попыток.\")"
   ]
  },
  {
   "cell_type": "code",
   "execution_count": 32,
   "metadata": {},
   "outputs": [
    {
     "name": "stdout",
     "output_type": "stream",
     "text": [
      "Вы угадали число 74 за 55 попыток.\n",
      "Ваш алгоритм угадывает число в среднем за 101 попыток\n"
     ]
    }
   ],
   "source": [
    "def game_core_v1(number):\n",
    "    '''Просто угадываем на random, никак не используя информацию о больше или меньше.\n",
    "       Функция принимает загаданное число и возвращает число попыток'''\n",
    "    count = 0\n",
    "    while True:\n",
    "        count+=1\n",
    "        predict = np.random.randint(1,101) # предполагаемое число\n",
    "        if number == predict: \n",
    "            return count # выход из цикла, если угадали\n",
    "    return count\n",
    "print(f\"Вы угадали число {predict} за {count} попыток.\")\n",
    "        \n",
    "        \n",
    "def score_game(game_core_v1):\n",
    "    '''Запускаем игру 1000 раз, чтобы узнать, как быстро игра угадывает число'''\n",
    "    count_ls = []\n",
    "    np.random.seed(1)  # фиксируем RANDOM SEED, чтобы ваш эксперимент был воспроизводим!\n",
    "    random_array = np.random.randint(1,101, size=(1000))\n",
    "    for number in random_array:\n",
    "        count_ls.append(game_core_v1(number))\n",
    "    score = int(np.mean(count_ls))\n",
    "    return(score)\n",
    "\n",
    "print(f\"Ваш алгоритм угадывает число в среднем за {score_game(game_core_v1)} попыток\")\n"
   ]
  },
  {
   "cell_type": "code",
   "execution_count": 51,
   "metadata": {},
   "outputs": [
    {
     "name": "stdout",
     "output_type": "stream",
     "text": [
      "Заданное число 74.\n",
      "Количество попыток 65.\n"
     ]
    }
   ],
   "source": [
    "def game_core_v2(number):\n",
    "    '''Сначала устанавливаем любое random число, а потом уменьшаем или увеличиваем его в зависимости от того,\n",
    "    больше оно или меньше нужного.\n",
    "       Функция принимает загаданное число и возвращает число попыток'''\n",
    "    count = 1 # Счетчик попыток\n",
    "    predict = np.random.randint(1,101) # Задали число\n",
    "    while number != predict: # Задали цикл: если число не равно заданному...\n",
    "        count+=1 # ...счетчик увеличивается на 1.\n",
    "        if number > predict: # Если число больше заданного...\n",
    "            predict += 1 # ...заданное число увеличиваем на 1.\n",
    "        elif number < predict: # Если число меньше заданного...\n",
    "            predict -= 1 # ...заданное число уменьшаем на 1.\n",
    "    return(count) # выход из цикла, если угадали\n",
    "print(f\"Заданное число {predict}.\")\n",
    "print(f\"Количество попыток {game_core_v2(number)}.\")"
   ]
  },
  {
   "cell_type": "code",
   "execution_count": 58,
   "metadata": {},
   "outputs": [
    {
     "name": "stdout",
     "output_type": "stream",
     "text": [
      "Заданное число 74.\n",
      "Количество попыток 66.\n",
      "Ваш алгоритм угадывает число в среднем за 101 попыток\n"
     ]
    }
   ],
   "source": [
    "def game_core_v2(number):\n",
    "    '''Сначала устанавливаем любое random число, а потом уменьшаем или увеличиваем его в зависимости от того,\n",
    "    больше оно или меньше нужного.\n",
    "       Функция принимает загаданное число и возвращает число попыток'''\n",
    "    count = 1 # Счетчик попыток\n",
    "    predict = np.random.randint(1,101) # Задали число\n",
    "    while number != predict: # Задали цикл: если число не равно заданному...\n",
    "        count+=1 # ...счетчик увеличивается на 1.\n",
    "        if number > predict: # Если число больше заданного...\n",
    "            predict += 1 # ...заданное число увеличиваем на 1.\n",
    "        elif number < predict: # Если число меньше заданного...\n",
    "            predict -= 1 # ...заданное число уменьшаем на 1.\n",
    "    return(count) # выход из цикла, если угадали\n",
    "print(f\"Заданное число {predict}.\")\n",
    "print(f\"Количество попыток {game_core_v2(number)}.\")\n",
    "\n",
    "\n",
    "def score_game(game_core_v1):\n",
    "    '''Запускаем игру 1000 раз, чтобы узнать, как быстро игра угадывает число'''\n",
    "    count_ls = []\n",
    "    np.random.seed(1)  # фиксируем RANDOM SEED, чтобы ваш эксперимент был воспроизводим!\n",
    "    random_array = np.random.randint(1,101, size=(1000))\n",
    "    for number in random_array:\n",
    "        count_ls.append(game_core_v1(number))\n",
    "    score = int(np.mean(count_ls))\n",
    "    return(score)\n",
    "\n",
    "print(f\"Ваш алгоритм угадывает число в среднем за {score_game(game_core_v1)} попыток\")"
   ]
  },
  {
   "cell_type": "code",
   "execution_count": null,
   "metadata": {},
   "outputs": [],
   "source": []
  }
 ],
 "metadata": {
  "kernelspec": {
   "display_name": "Python 3",
   "language": "python",
   "name": "python3"
  },
  "language_info": {
   "codemirror_mode": {
    "name": "ipython",
    "version": 3
   },
   "file_extension": ".py",
   "mimetype": "text/x-python",
   "name": "python",
   "nbconvert_exporter": "python",
   "pygments_lexer": "ipython3",
   "version": "3.8.5"
  }
 },
 "nbformat": 4,
 "nbformat_minor": 4
}
